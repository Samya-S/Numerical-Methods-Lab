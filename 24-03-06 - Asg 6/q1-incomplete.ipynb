{
 "cells": [
  {
   "cell_type": "code",
   "execution_count": 42,
   "metadata": {},
   "outputs": [],
   "source": [
    "import numpy as np\n",
    "# from sympy import *\n",
    "import math"
   ]
  },
  {
   "cell_type": "code",
   "execution_count": 43,
   "metadata": {},
   "outputs": [],
   "source": [
    "# h, u, u1, u2 = symbols('h u u1 u2')\n",
    "g = 9.81 # m/s2\n",
    "# # U = np.array([[h], [h*u]])\n",
    "# U = np.array([[u1], [u2]])\n",
    "# print(U)\n",
    "# # F = np.array([[h*u], [h*u*u + (1/2)*g*h*h]])\n",
    "# F = np.array([[u2], [u2*u2/u1 + (1/2)*g*u1*u1]])\n",
    "# print(F)\n",
    "# U_ = Derivative(U, t)\n",
    "# print(U_)"
   ]
  },
  {
   "cell_type": "code",
   "execution_count": 44,
   "metadata": {},
   "outputs": [],
   "source": [
    "# finding eigen values\n",
    "def eval(u,h):\n",
    "    return np.array([u+math.sqrt(g*h)],[u-math.sqrt(g*h)])"
   ]
  },
  {
   "cell_type": "code",
   "execution_count": 45,
   "metadata": {},
   "outputs": [],
   "source": [
    "# initial case 1\n",
    "def h00(x):\n",
    "    return np.exp(-(x-2)*(x-2)/0.1)\n",
    "\n",
    "def u00(x):\n",
    "    return 0*x\n",
    "\n",
    "\n",
    "# initial case 2\n",
    "def h10(x):\n",
    "    if(x<2.5):\n",
    "        return 2\n",
    "    else:\n",
    "        return 1\n",
    "    \n",
    "def u10(x):\n",
    "    return 0*x"
   ]
  },
  {
   "cell_type": "code",
   "execution_count": null,
   "metadata": {},
   "outputs": [],
   "source": [
    "def u_rtgh(u, h):\n",
    "    return abs(u) + math.sqrt(g*h)\n",
    "\n",
    "def maxfind():\n",
    "    val1 = u_rtgh(0)\n",
    "    val2 = u_rtgh(1)\n",
    "    if(val1 > val2):\n",
    "        keepval = val1\n",
    "    else:\n",
    "        keepval = val2\n",
    "        for i in range (2,501):\n",
    "            newval = u_rtgh(i)\n",
    "            if(newval > keepval):\n",
    "                keepval = newval\n",
    "            else:\n",
    "                keepval = keepval"
   ]
  },
  {
   "cell_type": "code",
   "execution_count": 46,
   "metadata": {},
   "outputs": [],
   "source": [
    "import numpy as np\n",
    "import matplotlib.pyplot as plot\n",
    "\n",
    "a = 0\n",
    "b = 5\n",
    "L = b-a\n",
    "Nx = 501\n",
    "dx = L/(Nx-1)\n",
    "T = 1.0\n",
    "dt = 1e-4\n",
    "# print(dt)\n",
    "\n",
    "x = np.linspace(a, b, Nx)\n",
    "u0 = np.zeros(x.size)\n",
    "for i in range (0,501):\n",
    "    u0[i] = h10(x[i])\n",
    "\n",
    "dt = (0.8*dx)/maxfind()"
   ]
  }
 ],
 "metadata": {
  "kernelspec": {
   "display_name": "myenvironment",
   "language": "python",
   "name": "python3"
  },
  "language_info": {
   "codemirror_mode": {
    "name": "ipython",
    "version": 3
   },
   "file_extension": ".py",
   "mimetype": "text/x-python",
   "name": "python",
   "nbconvert_exporter": "python",
   "pygments_lexer": "ipython3",
   "version": "3.12.1"
  }
 },
 "nbformat": 4,
 "nbformat_minor": 2
}
