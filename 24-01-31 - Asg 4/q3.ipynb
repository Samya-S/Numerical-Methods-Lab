{
 "cells": [
  {
   "cell_type": "code",
   "execution_count": 25,
   "metadata": {},
   "outputs": [],
   "source": [
    "import numpy as np\n",
    "import math\n",
    "import matplotlib.pyplot as plt\n",
    "import pandas as pd"
   ]
  },
  {
   "cell_type": "code",
   "execution_count": 26,
   "metadata": {},
   "outputs": [],
   "source": [
    "a = 1\n",
    "b = 2\n",
    "h = 0.1\n",
    "n = int((b-a)/h)"
   ]
  },
  {
   "cell_type": "code",
   "execution_count": 27,
   "metadata": {},
   "outputs": [],
   "source": [
    "X = 1 + np.arange(n+1)/10\n",
    "y0=0\n",
    "yn=4*np.exp(2)\n",
    "\n",
    "s=5.455\n",
    "\n",
    "z0=s\n",
    "\n",
    "Y=[y0]\n",
    "Z=[z0]"
   ]
  },
  {
   "cell_type": "code",
   "execution_count": 28,
   "metadata": {},
   "outputs": [],
   "source": [
    "def f(x,y,z):\n",
    "    return z\n",
    "\n",
    "def g(x,y,z):\n",
    "    return (3/x)*z - (3/(x*x))*y + 2*(x*x)*np.exp(x)"
   ]
  },
  {
   "cell_type": "code",
   "execution_count": 29,
   "metadata": {},
   "outputs": [],
   "source": [
    "def k1(i):\n",
    "    return f(X[i], Y[i], Z[i])\n",
    "def l1(i):\n",
    "    return g(X[i], Y[i], Z[i])\n",
    "def k2(i):\n",
    "    return f(X[i]+h/2, Y[i]+(h/2)*k1(i), Z[i]+(h/2)*l1(i))\n",
    "def l2(i):\n",
    "    return g(X[i]+h/2, Y[i]+(h/2)*k1(i), Z[i]+(h/2)*l1(i))\n",
    "def k3(i):\n",
    "    return f(X[i]+h/2, Y[i]+(h/2)*k2(i), Z[i]+(h/2)*l2(i))\n",
    "def l3(i):\n",
    "    return g(X[i]+h/2, Y[i]+(h/2)*k2(i), Z[i]+(h/2)*l2(i))\n",
    "def k4(i):\n",
    "    return f(X[i]+h, Y[i]+(h)*k3(i), Z[i]+(h)*l3(i))\n",
    "def l4(i):\n",
    "    return g(X[i]+h, Y[i]+(h)*k3(i), Z[i]+(h)*l3(i))"
   ]
  },
  {
   "cell_type": "code",
   "execution_count": 30,
   "metadata": {},
   "outputs": [
    {
     "name": "stdout",
     "output_type": "stream",
     "text": [
      "[0, 0.6630377906203977, 1.5985063873427254, 2.870293702335257, 4.554176635377654, 6.739770269209522, 9.532771806860644, 13.057541396381351, 17.460067772977148, 22.911373202585413, 29.61141963428079]\n"
     ]
    }
   ],
   "source": [
    "for i in range (0,n):\n",
    "    y = Y[i] + (h/6)*(k1(i)+2*k2(i)+2*k3(i)+k4(i))\n",
    "    Y.append(y)\n",
    "    z = Z[i] + (h/6)*(l1(i)+2*l2(i)+2*l3(i)+l4(i))\n",
    "    Z.append(z)\n",
    "\n",
    "print(Y)"
   ]
  },
  {
   "cell_type": "code",
   "execution_count": 32,
   "metadata": {},
   "outputs": [
    {
     "name": "stdout",
     "output_type": "stream",
     "text": [
      "[ 0.          0.66091653  1.59365612  2.8620514   4.54182396  6.72253361\n",
      "  9.50982225 13.02799479 17.4229847  22.86575899 29.5562244 ]\n"
     ]
    }
   ],
   "source": [
    "soln = np.zeros(n+1)\n",
    "\n",
    "def yx(i):\n",
    "    return 2*X[i]*np.exp(X[i])*(X[i]-1)\n",
    "\n",
    "for i in range (n+1):\n",
    "    soln[i] = yx(i)\n",
    "\n",
    "print(soln)"
   ]
  }
 ],
 "metadata": {
  "kernelspec": {
   "display_name": "myenvironment",
   "language": "python",
   "name": "python3"
  },
  "language_info": {
   "codemirror_mode": {
    "name": "ipython",
    "version": 3
   },
   "file_extension": ".py",
   "mimetype": "text/x-python",
   "name": "python",
   "nbconvert_exporter": "python",
   "pygments_lexer": "ipython3",
   "version": "3.12.1"
  }
 },
 "nbformat": 4,
 "nbformat_minor": 2
}
