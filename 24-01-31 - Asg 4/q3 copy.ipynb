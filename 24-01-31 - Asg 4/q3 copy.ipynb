{
 "cells": [
  {
   "cell_type": "code",
   "execution_count": 5,
   "metadata": {},
   "outputs": [],
   "source": [
    "import numpy as np\n",
    "import math\n",
    "import matplotlib.pyplot as plt\n",
    "import pandas as pd"
   ]
  },
  {
   "cell_type": "code",
   "execution_count": 6,
   "metadata": {},
   "outputs": [
    {
     "data": {
      "text/plain": [
       "array([1. , 1.1, 1.2, 1.3, 1.4, 1.5, 1.6, 1.7, 1.8, 1.9, 2. ])"
      ]
     },
     "execution_count": 6,
     "metadata": {},
     "output_type": "execute_result"
    }
   ],
   "source": [
    "N=10\n",
    "h=0.1\n",
    "x=np.linspace(1,2,N+1)\n",
    "x"
   ]
  },
  {
   "cell_type": "code",
   "execution_count": 13,
   "metadata": {},
   "outputs": [
    {
     "name": "stdout",
     "output_type": "stream",
     "text": [
      "The value of y at x = 2 is: 1.1036393232374955\n"
     ]
    }
   ],
   "source": [
    "# Python program to implement Runge Kutta method\n",
    "\n",
    "# A sample differential equation \"dy / dx = (x - y)/2\"\n",
    "def dydx(x, y):\n",
    "\treturn ((x - y)/2)\n",
    "\n",
    "# Finds value of y for a given x using step size h\n",
    "# and initial value y0 at x0.\n",
    "def rungeKutta(x0, y0, x, h):\n",
    "\t# Count number of iterations using step size or\n",
    "\t# step height h\n",
    "\tn = (int)((x - x0)/h) \n",
    "\t# Iterate for number of iterations\n",
    "\ty = y0\n",
    "\tfor i in range(1, n + 1):\n",
    "\t\t\"Apply Runge Kutta Formulas to find next value of y\"\n",
    "\t\tk1 = h * dydx(x0, y)\n",
    "\t\tk2 = h * dydx(x0 + 0.5 * h, y + 0.5 * k1)\n",
    "\t\tk3 = h * dydx(x0 + 0.5 * h, y + 0.5 * k2)\n",
    "\t\tk4 = h * dydx(x0 + h, y + k3)\n",
    "\n",
    "\t\t# Update next value of y\n",
    "\t\ty = y + (1.0 / 6.0)*(k1 + 2 * k2 + 2 * k3 + k4)\n",
    "\n",
    "\t\t# Update next value of x\n",
    "\t\tx0 = x0 + h\n",
    "\treturn y\n",
    "\n",
    "# Driver method\n",
    "x0 = 0\n",
    "y = 1\n",
    "x = 2\n",
    "h = 0.2\n",
    "print ('The value of y at x =',x, 'is:', rungeKutta(x0, y, x, h))"
   ]
  }
 ],
 "metadata": {
  "kernelspec": {
   "display_name": "myenvironment",
   "language": "python",
   "name": "python3"
  },
  "language_info": {
   "codemirror_mode": {
    "name": "ipython",
    "version": 3
   },
   "file_extension": ".py",
   "mimetype": "text/x-python",
   "name": "python",
   "nbconvert_exporter": "python",
   "pygments_lexer": "ipython3",
   "version": "3.12.1"
  }
 },
 "nbformat": 4,
 "nbformat_minor": 2
}
