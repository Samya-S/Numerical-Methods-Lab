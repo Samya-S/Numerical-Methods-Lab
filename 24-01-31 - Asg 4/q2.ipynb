{
 "cells": [
  {
   "cell_type": "code",
   "execution_count": 23,
   "metadata": {},
   "outputs": [],
   "source": [
    "import numpy as np\n",
    "import math\n",
    "import matplotlib.pyplot as plt\n",
    "import warnings\n",
    "warnings.filterwarnings(\"ignore\")"
   ]
  },
  {
   "cell_type": "code",
   "execution_count": 24,
   "metadata": {},
   "outputs": [
    {
     "name": "stdout",
     "output_type": "stream",
     "text": [
      "[0.  0.1 0.2 0.3 0.4 0.5 0.6 0.7 0.8 0.9 1. ]\n"
     ]
    }
   ],
   "source": [
    "## BVP\n",
    "a=0\n",
    "b=1\n",
    "h=0.1\n",
    "N=int((b-a)/h)\n",
    "\n",
    "x=np.linspace(0,1,N+1)\n",
    "print(x)"
   ]
  },
  {
   "cell_type": "code",
   "execution_count": 25,
   "metadata": {},
   "outputs": [],
   "source": [
    "def af(xi):\n",
    "    return -((xi*xi)/(2*h)) + 1/(h*h)\n",
    "\n",
    "def bf(xi):\n",
    "    return -(2/(h*h)+4*xi)\n",
    "\n",
    "def cf(xi):\n",
    "    return ((xi*xi)/(2*h)) + 1/(h*h)"
   ]
  },
  {
   "cell_type": "code",
   "execution_count": 26,
   "metadata": {},
   "outputs": [
    {
     "name": "stdout",
     "output_type": "stream",
     "text": [
      "The matrix A is:\n",
      "[[-200.4   100.05    0.      0.      0.      0.      0.      0.      0.  ]\n",
      " [ 100.   -200.8   100.2     0.      0.      0.      0.      0.      0.  ]\n",
      " [   0.     99.95 -201.2   100.45    0.      0.      0.      0.      0.  ]\n",
      " [   0.      0.     99.8  -201.6   100.8     0.      0.      0.      0.  ]\n",
      " [   0.      0.      0.     99.55 -202.    101.25    0.      0.      0.  ]\n",
      " [   0.      0.      0.      0.     99.2  -202.4   101.8     0.      0.  ]\n",
      " [   0.      0.      0.      0.      0.     98.75 -202.8   102.45    0.  ]\n",
      " [   0.      0.      0.      0.      0.      0.     98.2  -203.2   103.2 ]\n",
      " [   0.      0.      0.      0.      0.      0.      0.     97.55 -203.6 ]]\n"
     ]
    }
   ],
   "source": [
    "A = np.zeros((N-1,N-1))\n",
    "\n",
    "def fx(xi):\n",
    "    return 0\n",
    "\n",
    "# Diagonal\n",
    "for i in range (0,N-1):\n",
    "    A[i,i] = bf(x[i+1])\n",
    "\n",
    "for i in range (0,N-2):           \n",
    "    A[i+1,i] = af(x[i])\n",
    "    A[i,i+1] = cf(x[i+1])\n",
    "\n",
    "print(\"The matrix A is:\")\n",
    "print(A)"
   ]
  },
  {
   "cell_type": "code",
   "execution_count": 27,
   "metadata": {},
   "outputs": [],
   "source": [
    "b=np.zeros(N-1)\n",
    "\n",
    "for i in range(0,N-1):\n",
    "    b[i] = fx(x[i+1])\n",
    "\n",
    "b[0] -= (af(x[1])) * 0\n",
    "b[N-2] -= (cf(x[N-1])) * 5"
   ]
  },
  {
   "cell_type": "code",
   "execution_count": 28,
   "metadata": {},
   "outputs": [
    {
     "name": "stdout",
     "output_type": "stream",
     "text": [
      "[0.439731   0.88078054 1.32622387 1.78001222 2.24695756 2.73269343\n",
      " 3.24360472 3.78672095 4.36957087]\n"
     ]
    }
   ],
   "source": [
    "Y = np.linalg.solve(A,b)\n",
    "print(Y)"
   ]
  },
  {
   "cell_type": "code",
   "execution_count": 30,
   "metadata": {},
   "outputs": [
    {
     "name": "stdout",
     "output_type": "stream",
     "text": [
      "[0.039631   0.07918054 0.11812387 0.15441222 0.18445756 0.20309343\n",
      " 0.20350472 0.17712095 0.11347087]\n"
     ]
    }
   ],
   "source": [
    "def yx(val):\n",
    "    return (val*val*val*val) + 4*val\n",
    "\n",
    "delta = np.zeros(N-1)\n",
    "\n",
    "for i in range(0, N-1):\n",
    "    delta[i] = Y[i] - yx(x[i+1])\n",
    "\n",
    "print(delta)"
   ]
  }
 ],
 "metadata": {
  "kernelspec": {
   "display_name": "sklearn-env",
   "language": "python",
   "name": "python3"
  },
  "language_info": {
   "codemirror_mode": {
    "name": "ipython",
    "version": 3
   },
   "file_extension": ".py",
   "mimetype": "text/x-python",
   "name": "python",
   "nbconvert_exporter": "python",
   "pygments_lexer": "ipython3",
   "version": "3.12.1"
  }
 },
 "nbformat": 4,
 "nbformat_minor": 2
}
