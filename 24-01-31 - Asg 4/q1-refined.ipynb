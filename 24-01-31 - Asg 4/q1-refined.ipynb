{
 "cells": [
  {
   "cell_type": "code",
   "execution_count": 41,
   "metadata": {},
   "outputs": [],
   "source": [
    "import numpy as np\n",
    "import math\n",
    "import matplotlib.pyplot as plt\n",
    "import warnings\n",
    "warnings.filterwarnings(\"ignore\")"
   ]
  },
  {
   "cell_type": "code",
   "execution_count": 42,
   "metadata": {},
   "outputs": [
    {
     "name": "stdout",
     "output_type": "stream",
     "text": [
      "[0.  0.1 0.2 0.3 0.4 0.5 0.6 0.7 0.8 0.9 1. ]\n"
     ]
    }
   ],
   "source": [
    "## BVP\n",
    "a=0\n",
    "b=1\n",
    "h=0.1\n",
    "N=int((b-a)/h)\n",
    "\n",
    "x=np.linspace(0,1,N+1)\n",
    "print(x)"
   ]
  },
  {
   "cell_type": "code",
   "execution_count": 43,
   "metadata": {},
   "outputs": [],
   "source": [
    "def af(xi):\n",
    "    return -(np.exp(xi)/(2*h)) + 1/(h*h)\n",
    "\n",
    "def bf(xi):\n",
    "    return -(2/(h*h)+xi)\n",
    "\n",
    "def cf(xi):\n",
    "    return np.exp(xi)/(2*h) + 1/(h*h)"
   ]
  },
  {
   "cell_type": "code",
   "execution_count": 44,
   "metadata": {},
   "outputs": [
    {
     "name": "stdout",
     "output_type": "stream",
     "text": [
      "The matrix A is:\n",
      "[[-200.1         105.52585459    0.            0.            0.\n",
      "     0.            0.            0.            0.        ]\n",
      " [  95.         -200.2         106.10701379    0.            0.\n",
      "     0.            0.            0.            0.        ]\n",
      " [   0.           94.47414541 -200.3         106.74929404    0.\n",
      "     0.            0.            0.            0.        ]\n",
      " [   0.            0.           93.89298621 -200.4         107.45912349\n",
      "     0.            0.            0.            0.        ]\n",
      " [   0.            0.            0.           93.25070596 -200.5\n",
      "   108.24360635    0.            0.            0.        ]\n",
      " [   0.            0.            0.            0.           92.54087651\n",
      "  -200.6         109.110594      0.            0.        ]\n",
      " [   0.            0.            0.            0.            0.\n",
      "    91.75639365 -200.7         110.06876354    0.        ]\n",
      " [   0.            0.            0.            0.            0.\n",
      "     0.           90.889406   -200.8         111.12770464]\n",
      " [   0.            0.            0.            0.            0.\n",
      "     0.            0.           89.93123646 -200.9       ]]\n"
     ]
    }
   ],
   "source": [
    "A = np.zeros((N-1,N-1))\n",
    "\n",
    "def fx(xi):\n",
    "    return ((-xi*xi+2*xi-3)*np.exp(-xi)) - xi + 2\n",
    "\n",
    "# Diagonal\n",
    "for i in range (0,N-1):\n",
    "    A[i,i] = bf(x[i+1])\n",
    "\n",
    "for i in range (0,N-2):           \n",
    "    A[i+1,i] = af(x[i])\n",
    "    A[i,i+1] = cf(x[i+1])\n",
    "\n",
    "print(\"The matrix A is:\")\n",
    "print(A)"
   ]
  },
  {
   "cell_type": "code",
   "execution_count": 45,
   "metadata": {},
   "outputs": [],
   "source": [
    "b=np.zeros(N-1)\n",
    "\n",
    "for i in range(0,N-1):\n",
    "    b[i] = fx(x[i+1])\n",
    "\n",
    "b[0] -= (af(x[1])) * (-1)\n",
    "b[N-2] -= (cf(x[N-1])) * 0"
   ]
  },
  {
   "cell_type": "code",
   "execution_count": 46,
   "metadata": {},
   "outputs": [
    {
     "name": "stdout",
     "output_type": "stream",
     "text": [
      "[-0.84224508 -0.70789938 -0.58497192 -0.47247454 -0.36982521 -0.27674672\n",
      " -0.19316985 -0.11914163 -0.05474041]\n"
     ]
    }
   ],
   "source": [
    "Y = np.linalg.solve(A,b)\n",
    "print(Y)"
   ]
  },
  {
   "cell_type": "code",
   "execution_count": 47,
   "metadata": {},
   "outputs": [
    {
     "name": "stdout",
     "output_type": "stream",
     "text": [
      "[0.15775492 0.10645429 0.07001268 0.04609822 0.03236682 0.02651861\n",
      " 0.0263548  0.02983397 0.03512538]\n"
     ]
    }
   ],
   "source": [
    "def yx(val):\n",
    "    return (val - 1)*np.exp(-val)\n",
    "\n",
    "delta = np.zeros(N-1)\n",
    "\n",
    "for i in range(0, N-1):\n",
    "    delta[i] = Y[i] - yx(x[i])\n",
    "\n",
    "print(delta)"
   ]
  }
 ],
 "metadata": {
  "kernelspec": {
   "display_name": "sklearn-env",
   "language": "python",
   "name": "python3"
  },
  "language_info": {
   "codemirror_mode": {
    "name": "ipython",
    "version": 3
   },
   "file_extension": ".py",
   "mimetype": "text/x-python",
   "name": "python",
   "nbconvert_exporter": "python",
   "pygments_lexer": "ipython3",
   "version": "3.12.1"
  }
 },
 "nbformat": 4,
 "nbformat_minor": 2
}
