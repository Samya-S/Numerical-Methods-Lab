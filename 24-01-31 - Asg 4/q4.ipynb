{
 "cells": [
  {
   "cell_type": "code",
   "execution_count": 27,
   "metadata": {},
   "outputs": [],
   "source": [
    "import numpy as np\n",
    "from scipy.integrate import solve_ivp"
   ]
  },
  {
   "cell_type": "code",
   "execution_count": 28,
   "metadata": {},
   "outputs": [],
   "source": [
    "def fun(x, Y):\n",
    "    y, yp = Y\n",
    "    return [yp, (1 - yp**2) / y]"
   ]
  },
  {
   "cell_type": "code",
   "execution_count": 29,
   "metadata": {},
   "outputs": [],
   "source": [
    "def shooting_method(y_prime_guess, h, tol):\n",
    "    x_span = np.arange(0, 2 + h, h)\n",
    "    n = len(x_span)\n",
    "    y_guess = [1, y_prime_guess]\n",
    "    \n",
    "    def boundary_residual(y_prime_guess):\n",
    "        y_guess = [1, y_prime_guess]\n",
    "        sol = solve_ivp(fun, [0, 2], y_guess, t_eval=x_span)\n",
    "        return sol.y[0, -1] - 2  \n",
    "\n",
    "    y_prime_guess_old = y_prime_guess\n",
    "    y_prime_guess_new = y_prime_guess_old + 0.1  \n",
    "\n",
    "    while abs(y_prime_guess_new - y_prime_guess_old) > tol:\n",
    "        y_prime_guess_old = y_prime_guess_new\n",
    "        y_prime_guess_new = y_prime_guess_old - boundary_residual(y_prime_guess_old) * (y_prime_guess_old - y_prime_guess) / (\n",
    "                boundary_residual(y_prime_guess_old) - boundary_residual(y_prime_guess))\n",
    "        y_prime_guess = y_prime_guess_old\n",
    "\n",
    "    return y_prime_guess_new"
   ]
  },
  {
   "cell_type": "code",
   "execution_count": 30,
   "metadata": {},
   "outputs": [
    {
     "name": "stdout",
     "output_type": "stream",
     "text": [
      "y'(0) = -0.2523493291253127\n",
      "Final solution:\n",
      "[1.         0.97921874 1.11217696 1.35547949 1.66089245 2.00000001]\n"
     ]
    }
   ],
   "source": [
    "h = 0.4\n",
    "tol = 1e-4\n",
    "\n",
    "y_prime_guess = 0.5  \n",
    "y_prime = shooting_method(y_prime_guess, h, tol)\n",
    "\n",
    "print(\"y'(0) =\", y_prime)\n",
    "\n",
    "x_span = np.arange(0, 2 + h, h)\n",
    "y_guess = [1, y_prime]\n",
    "sol = solve_ivp(fun, [0, 2], y_guess, t_eval=x_span)\n",
    "\n",
    "print(\"Final solution:\")\n",
    "print(sol.y[0])"
   ]
  }
 ],
 "metadata": {
  "kernelspec": {
   "display_name": "myenvironment",
   "language": "python",
   "name": "python3"
  },
  "language_info": {
   "codemirror_mode": {
    "name": "ipython",
    "version": 3
   },
   "file_extension": ".py",
   "mimetype": "text/x-python",
   "name": "python",
   "nbconvert_exporter": "python",
   "pygments_lexer": "ipython3",
   "version": "3.12.1"
  }
 },
 "nbformat": 4,
 "nbformat_minor": 2
}
