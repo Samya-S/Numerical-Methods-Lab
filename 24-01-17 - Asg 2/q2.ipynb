{
 "cells": [
  {
   "cell_type": "code",
   "execution_count": 11,
   "id": "c3c52578-2e75-4931-b06d-4b50487a91a8",
   "metadata": {},
   "outputs": [
    {
     "name": "stdout",
     "output_type": "stream",
     "text": [
      "f(2.0) = -24.0, f1(2.0) = -36.0, f2(2.0) = -36.0, f3(2.0) = -18.0\n",
      "a = 6.0, b = -18.0, c = -36.0, d = -24.0\n"
     ]
    }
   ],
   "source": [
    "import autograd.numpy as np\n",
    "from autograd import grad\n",
    "# import autograd.grad as grad\n",
    "\n",
    "x = 2.0\n",
    "\n",
    "def f(x1):\n",
    "    return -3*(x1*x1*x1)\n",
    "\n",
    "f1 = grad(f)\n",
    "f2 = grad(f1)\n",
    "f3 = grad(f2)\n",
    "\n",
    "print(f\"f({x}) = {f(x)}, f1({x}) = {f1(x)}, f2({x}) = {f2(x)}, f3({x}) = {f3(x)}\")\n",
    "\n",
    "d = f(x)\n",
    "c = f1(x)\n",
    "b = f2(x)/2\n",
    "a = (-2*b)/6\n",
    "\n",
    "print(f\"a = {a}, b = {b}, c = {c}, d = {d}\")"
   ]
  }
 ],
 "metadata": {
  "kernelspec": {
   "display_name": "Python 3 (ipykernel)",
   "language": "python",
   "name": "python3"
  },
  "language_info": {
   "codemirror_mode": {
    "name": "ipython",
    "version": 3
   },
   "file_extension": ".py",
   "mimetype": "text/x-python",
   "name": "python",
   "nbconvert_exporter": "python",
   "pygments_lexer": "ipython3",
   "version": "3.12.1"
  }
 },
 "nbformat": 4,
 "nbformat_minor": 5
}
